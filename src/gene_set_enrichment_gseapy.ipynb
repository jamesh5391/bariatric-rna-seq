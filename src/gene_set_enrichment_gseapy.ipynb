{
 "cells": [
  {
   "cell_type": "code",
   "execution_count": null,
   "id": "c8adcbe2",
   "metadata": {},
   "outputs": [],
   "source": [
    "import pandas as pd\n",
    "import gseapy as gp\n",
    "significant_genes = pd.read_csv('../results/significant_genes_T3_vs_T0.csv')\n",
    "significant_genes.head\n",
    "\n",
    "significant_gene_symbols = significant_genes['gene_symbol'].dropna()\n",
    "print(significant_gene_symbols.shape)\n",
    "enrichment = gp.enrichr(gene_list=significant_gene_symbols.tolist(),\n",
    "                        gene_sets='GO_Biological_Process_2023',\n",
    "                        organism='Human',\n",
    "                        )\n",
    "\n",
    "sorted_res = enrichment.res2d.sort_values(by='Adjusted P-value', ascending=True)\n",
    "sorted_res.to_csv('../results/enrichment_gseapy_gene_ontology.csv')"
   ]
  }
 ],
 "metadata": {
  "language_info": {
   "name": "python"
  }
 },
 "nbformat": 4,
 "nbformat_minor": 5
}
