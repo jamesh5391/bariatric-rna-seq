{
 "cells": [
  {
   "cell_type": "code",
   "execution_count": null,
   "id": "3bb97c14",
   "metadata": {},
   "outputs": [],
   "source": [
    "import pandas as pd\n",
    "import numpy as np \n",
    "import matplotlib.pyplot as plt \n",
    "import pydeseq2\n"
   ]
  },
  {
   "cell_type": "markdown",
   "id": "93d03984",
   "metadata": {},
   "source": [
    "## 1. RNA-seq Dataset Exploration"
   ]
  },
  {
   "cell_type": "code",
   "execution_count": 5,
   "id": "756b542a",
   "metadata": {},
   "outputs": [
    {
     "data": {
      "text/html": [
       "<div>\n",
       "<style scoped>\n",
       "    .dataframe tbody tr th:only-of-type {\n",
       "        vertical-align: middle;\n",
       "    }\n",
       "\n",
       "    .dataframe tbody tr th {\n",
       "        vertical-align: top;\n",
       "    }\n",
       "\n",
       "    .dataframe thead th {\n",
       "        text-align: right;\n",
       "    }\n",
       "</style>\n",
       "<table border=\"1\" class=\"dataframe\">\n",
       "  <thead>\n",
       "    <tr style=\"text-align: right;\">\n",
       "      <th></th>\n",
       "      <th>Gene</th>\n",
       "      <th>SRR1785238</th>\n",
       "      <th>SRR1785239</th>\n",
       "      <th>SRR1785240</th>\n",
       "      <th>SRR1785241</th>\n",
       "      <th>SRR1785242</th>\n",
       "      <th>SRR1785243</th>\n",
       "      <th>SRR1785244</th>\n",
       "      <th>SRR1785245</th>\n",
       "      <th>SRR1785246</th>\n",
       "      <th>...</th>\n",
       "      <th>SRR1785316</th>\n",
       "      <th>SRR1785317</th>\n",
       "      <th>SRR1785318</th>\n",
       "      <th>SRR1785319</th>\n",
       "      <th>SRR1785320</th>\n",
       "      <th>SRR1785321</th>\n",
       "      <th>SRR1785322</th>\n",
       "      <th>SRR1785323</th>\n",
       "      <th>SRR1785324</th>\n",
       "      <th>SRR1785325</th>\n",
       "    </tr>\n",
       "  </thead>\n",
       "  <tbody>\n",
       "    <tr>\n",
       "      <th>0</th>\n",
       "      <td>ENSG00000000003</td>\n",
       "      <td>6.328873</td>\n",
       "      <td>6.213042</td>\n",
       "      <td>6.566083</td>\n",
       "      <td>7.431347</td>\n",
       "      <td>6.577885</td>\n",
       "      <td>6.622472</td>\n",
       "      <td>6.061065</td>\n",
       "      <td>6.185052</td>\n",
       "      <td>7.083283</td>\n",
       "      <td>...</td>\n",
       "      <td>8.095718</td>\n",
       "      <td>6.850729</td>\n",
       "      <td>6.190149</td>\n",
       "      <td>6.075060</td>\n",
       "      <td>7.108820</td>\n",
       "      <td>7.030187</td>\n",
       "      <td>6.749068</td>\n",
       "      <td>6.897820</td>\n",
       "      <td>5.484898</td>\n",
       "      <td>6.410261</td>\n",
       "    </tr>\n",
       "    <tr>\n",
       "      <th>1</th>\n",
       "      <td>ENSG00000000005</td>\n",
       "      <td>13.173146</td>\n",
       "      <td>12.876556</td>\n",
       "      <td>10.828189</td>\n",
       "      <td>12.335142</td>\n",
       "      <td>22.767086</td>\n",
       "      <td>21.927400</td>\n",
       "      <td>3.438301</td>\n",
       "      <td>3.365119</td>\n",
       "      <td>17.128099</td>\n",
       "      <td>...</td>\n",
       "      <td>5.218452</td>\n",
       "      <td>5.011540</td>\n",
       "      <td>6.540894</td>\n",
       "      <td>6.347032</td>\n",
       "      <td>10.704100</td>\n",
       "      <td>10.328805</td>\n",
       "      <td>8.199832</td>\n",
       "      <td>8.299783</td>\n",
       "      <td>6.647849</td>\n",
       "      <td>7.419524</td>\n",
       "    </tr>\n",
       "    <tr>\n",
       "      <th>2</th>\n",
       "      <td>ENSG00000000419</td>\n",
       "      <td>3.370290</td>\n",
       "      <td>3.527564</td>\n",
       "      <td>3.562937</td>\n",
       "      <td>3.661824</td>\n",
       "      <td>3.778322</td>\n",
       "      <td>3.697747</td>\n",
       "      <td>3.223593</td>\n",
       "      <td>3.277145</td>\n",
       "      <td>3.827415</td>\n",
       "      <td>...</td>\n",
       "      <td>3.806907</td>\n",
       "      <td>3.529330</td>\n",
       "      <td>3.979054</td>\n",
       "      <td>3.727725</td>\n",
       "      <td>3.708256</td>\n",
       "      <td>3.773404</td>\n",
       "      <td>3.664229</td>\n",
       "      <td>3.690338</td>\n",
       "      <td>3.119168</td>\n",
       "      <td>3.709236</td>\n",
       "    </tr>\n",
       "    <tr>\n",
       "      <th>3</th>\n",
       "      <td>ENSG00000000457</td>\n",
       "      <td>2.688080</td>\n",
       "      <td>2.836431</td>\n",
       "      <td>2.768769</td>\n",
       "      <td>2.896969</td>\n",
       "      <td>3.017560</td>\n",
       "      <td>2.767193</td>\n",
       "      <td>2.720313</td>\n",
       "      <td>2.659437</td>\n",
       "      <td>2.979878</td>\n",
       "      <td>...</td>\n",
       "      <td>3.012767</td>\n",
       "      <td>2.948514</td>\n",
       "      <td>2.715955</td>\n",
       "      <td>2.786659</td>\n",
       "      <td>2.895226</td>\n",
       "      <td>2.940234</td>\n",
       "      <td>2.679154</td>\n",
       "      <td>2.648348</td>\n",
       "      <td>2.539504</td>\n",
       "      <td>2.634708</td>\n",
       "    </tr>\n",
       "    <tr>\n",
       "      <th>4</th>\n",
       "      <td>ENSG00000000460</td>\n",
       "      <td>1.905655</td>\n",
       "      <td>1.892335</td>\n",
       "      <td>1.957807</td>\n",
       "      <td>1.944157</td>\n",
       "      <td>2.021323</td>\n",
       "      <td>1.936682</td>\n",
       "      <td>1.602395</td>\n",
       "      <td>1.960482</td>\n",
       "      <td>2.087508</td>\n",
       "      <td>...</td>\n",
       "      <td>1.701300</td>\n",
       "      <td>1.867803</td>\n",
       "      <td>1.954910</td>\n",
       "      <td>1.899056</td>\n",
       "      <td>1.906454</td>\n",
       "      <td>1.766193</td>\n",
       "      <td>2.056871</td>\n",
       "      <td>2.008651</td>\n",
       "      <td>2.034759</td>\n",
       "      <td>1.844021</td>\n",
       "    </tr>\n",
       "  </tbody>\n",
       "</table>\n",
       "<p>5 rows × 89 columns</p>\n",
       "</div>"
      ],
      "text/plain": [
       "              Gene  SRR1785238  SRR1785239  SRR1785240  SRR1785241  \\\n",
       "0  ENSG00000000003    6.328873    6.213042    6.566083    7.431347   \n",
       "1  ENSG00000000005   13.173146   12.876556   10.828189   12.335142   \n",
       "2  ENSG00000000419    3.370290    3.527564    3.562937    3.661824   \n",
       "3  ENSG00000000457    2.688080    2.836431    2.768769    2.896969   \n",
       "4  ENSG00000000460    1.905655    1.892335    1.957807    1.944157   \n",
       "\n",
       "   SRR1785242  SRR1785243  SRR1785244  SRR1785245  SRR1785246  ...  \\\n",
       "0    6.577885    6.622472    6.061065    6.185052    7.083283  ...   \n",
       "1   22.767086   21.927400    3.438301    3.365119   17.128099  ...   \n",
       "2    3.778322    3.697747    3.223593    3.277145    3.827415  ...   \n",
       "3    3.017560    2.767193    2.720313    2.659437    2.979878  ...   \n",
       "4    2.021323    1.936682    1.602395    1.960482    2.087508  ...   \n",
       "\n",
       "   SRR1785316  SRR1785317  SRR1785318  SRR1785319  SRR1785320  SRR1785321  \\\n",
       "0    8.095718    6.850729    6.190149    6.075060    7.108820    7.030187   \n",
       "1    5.218452    5.011540    6.540894    6.347032   10.704100   10.328805   \n",
       "2    3.806907    3.529330    3.979054    3.727725    3.708256    3.773404   \n",
       "3    3.012767    2.948514    2.715955    2.786659    2.895226    2.940234   \n",
       "4    1.701300    1.867803    1.954910    1.899056    1.906454    1.766193   \n",
       "\n",
       "   SRR1785322  SRR1785323  SRR1785324  SRR1785325  \n",
       "0    6.749068    6.897820    5.484898    6.410261  \n",
       "1    8.199832    8.299783    6.647849    7.419524  \n",
       "2    3.664229    3.690338    3.119168    3.709236  \n",
       "3    2.679154    2.648348    2.539504    2.634708  \n",
       "4    2.056871    2.008651    2.034759    1.844021  \n",
       "\n",
       "[5 rows x 89 columns]"
      ]
     },
     "execution_count": 5,
     "metadata": {},
     "output_type": "execute_result"
    }
   ],
   "source": [
    "df = pd.read_csv('../data/raw/SRP053101/SRP053101.tsv', sep='\\t')\n",
    "df.head()"
   ]
  },
  {
   "cell_type": "code",
   "execution_count": 6,
   "id": "806387e9",
   "metadata": {},
   "outputs": [
    {
     "data": {
      "text/plain": [
       "(43355, 89)"
      ]
     },
     "execution_count": 6,
     "metadata": {},
     "output_type": "execute_result"
    }
   ],
   "source": [
    "df.shape"
   ]
  },
  {
   "cell_type": "markdown",
   "id": "6a1f9115",
   "metadata": {},
   "source": [
    "## 2. Principle Component Analysis"
   ]
  },
  {
   "cell_type": "markdown",
   "id": "75362551",
   "metadata": {},
   "source": []
  },
  {
   "cell_type": "markdown",
   "id": "0da433a7",
   "metadata": {},
   "source": [
    "## 3. Differential Expression Analysis"
   ]
  },
  {
   "cell_type": "markdown",
   "id": "a045ec84",
   "metadata": {},
   "source": []
  },
  {
   "cell_type": "markdown",
   "id": "3991853d",
   "metadata": {},
   "source": [
    "## 4. Gene Set Enrichment Analysis"
   ]
  },
  {
   "cell_type": "markdown",
   "id": "8edbc997",
   "metadata": {},
   "source": []
  }
 ],
 "metadata": {
  "kernelspec": {
   "display_name": "cgs",
   "language": "python",
   "name": "python3"
  },
  "language_info": {
   "codemirror_mode": {
    "name": "ipython",
    "version": 3
   },
   "file_extension": ".py",
   "mimetype": "text/x-python",
   "name": "python",
   "nbconvert_exporter": "python",
   "pygments_lexer": "ipython3",
   "version": "3.12.11"
  }
 },
 "nbformat": 4,
 "nbformat_minor": 5
}
