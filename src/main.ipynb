{
 "cells": [
  {
   "cell_type": "code",
   "execution_count": 15,
   "id": "3bb97c14",
   "metadata": {},
   "outputs": [],
   "source": [
    "import pandas as pd\n",
    "import numpy as np \n",
    "import matplotlib.pyplot as plt \n",
    "import mygene\n",
    "import seaborn as sns\n",
    "import umap\n",
    "from sklearn.decomposition import PCA\n",
    "from sklearn.preprocessing import StandardScaler\n",
    "import gseapy as gp\n"
   ]
  },
  {
   "cell_type": "markdown",
   "id": "93d03984",
   "metadata": {},
   "source": [
    "## 1. RNA-seq Dataset Exploration"
   ]
  },
  {
   "cell_type": "code",
   "execution_count": 16,
   "id": "756b542a",
   "metadata": {},
   "outputs": [
    {
     "data": {
      "text/html": [
       "<div>\n",
       "<style scoped>\n",
       "    .dataframe tbody tr th:only-of-type {\n",
       "        vertical-align: middle;\n",
       "    }\n",
       "\n",
       "    .dataframe tbody tr th {\n",
       "        vertical-align: top;\n",
       "    }\n",
       "\n",
       "    .dataframe thead th {\n",
       "        text-align: right;\n",
       "    }\n",
       "</style>\n",
       "<table border=\"1\" class=\"dataframe\">\n",
       "  <thead>\n",
       "    <tr style=\"text-align: right;\">\n",
       "      <th></th>\n",
       "      <th>Gene</th>\n",
       "      <th>SRR1785238</th>\n",
       "      <th>SRR1785239</th>\n",
       "      <th>SRR1785240</th>\n",
       "      <th>SRR1785241</th>\n",
       "      <th>SRR1785242</th>\n",
       "      <th>SRR1785243</th>\n",
       "      <th>SRR1785244</th>\n",
       "      <th>SRR1785245</th>\n",
       "      <th>SRR1785246</th>\n",
       "      <th>...</th>\n",
       "      <th>SRR1785316</th>\n",
       "      <th>SRR1785317</th>\n",
       "      <th>SRR1785318</th>\n",
       "      <th>SRR1785319</th>\n",
       "      <th>SRR1785320</th>\n",
       "      <th>SRR1785321</th>\n",
       "      <th>SRR1785322</th>\n",
       "      <th>SRR1785323</th>\n",
       "      <th>SRR1785324</th>\n",
       "      <th>SRR1785325</th>\n",
       "    </tr>\n",
       "  </thead>\n",
       "  <tbody>\n",
       "    <tr>\n",
       "      <th>0</th>\n",
       "      <td>ENSG00000000003</td>\n",
       "      <td>6.328873</td>\n",
       "      <td>6.213042</td>\n",
       "      <td>6.566083</td>\n",
       "      <td>7.431347</td>\n",
       "      <td>6.577885</td>\n",
       "      <td>6.622472</td>\n",
       "      <td>6.061065</td>\n",
       "      <td>6.185052</td>\n",
       "      <td>7.083283</td>\n",
       "      <td>...</td>\n",
       "      <td>8.095718</td>\n",
       "      <td>6.850729</td>\n",
       "      <td>6.190149</td>\n",
       "      <td>6.075060</td>\n",
       "      <td>7.108820</td>\n",
       "      <td>7.030187</td>\n",
       "      <td>6.749068</td>\n",
       "      <td>6.897820</td>\n",
       "      <td>5.484898</td>\n",
       "      <td>6.410261</td>\n",
       "    </tr>\n",
       "    <tr>\n",
       "      <th>1</th>\n",
       "      <td>ENSG00000000005</td>\n",
       "      <td>13.173146</td>\n",
       "      <td>12.876556</td>\n",
       "      <td>10.828189</td>\n",
       "      <td>12.335142</td>\n",
       "      <td>22.767086</td>\n",
       "      <td>21.927400</td>\n",
       "      <td>3.438301</td>\n",
       "      <td>3.365119</td>\n",
       "      <td>17.128099</td>\n",
       "      <td>...</td>\n",
       "      <td>5.218452</td>\n",
       "      <td>5.011540</td>\n",
       "      <td>6.540894</td>\n",
       "      <td>6.347032</td>\n",
       "      <td>10.704100</td>\n",
       "      <td>10.328805</td>\n",
       "      <td>8.199832</td>\n",
       "      <td>8.299783</td>\n",
       "      <td>6.647849</td>\n",
       "      <td>7.419524</td>\n",
       "    </tr>\n",
       "    <tr>\n",
       "      <th>2</th>\n",
       "      <td>ENSG00000000419</td>\n",
       "      <td>3.370290</td>\n",
       "      <td>3.527564</td>\n",
       "      <td>3.562937</td>\n",
       "      <td>3.661824</td>\n",
       "      <td>3.778322</td>\n",
       "      <td>3.697747</td>\n",
       "      <td>3.223593</td>\n",
       "      <td>3.277145</td>\n",
       "      <td>3.827415</td>\n",
       "      <td>...</td>\n",
       "      <td>3.806907</td>\n",
       "      <td>3.529330</td>\n",
       "      <td>3.979054</td>\n",
       "      <td>3.727725</td>\n",
       "      <td>3.708256</td>\n",
       "      <td>3.773404</td>\n",
       "      <td>3.664229</td>\n",
       "      <td>3.690338</td>\n",
       "      <td>3.119168</td>\n",
       "      <td>3.709236</td>\n",
       "    </tr>\n",
       "    <tr>\n",
       "      <th>3</th>\n",
       "      <td>ENSG00000000457</td>\n",
       "      <td>2.688080</td>\n",
       "      <td>2.836431</td>\n",
       "      <td>2.768769</td>\n",
       "      <td>2.896969</td>\n",
       "      <td>3.017560</td>\n",
       "      <td>2.767193</td>\n",
       "      <td>2.720313</td>\n",
       "      <td>2.659437</td>\n",
       "      <td>2.979878</td>\n",
       "      <td>...</td>\n",
       "      <td>3.012767</td>\n",
       "      <td>2.948514</td>\n",
       "      <td>2.715955</td>\n",
       "      <td>2.786659</td>\n",
       "      <td>2.895226</td>\n",
       "      <td>2.940234</td>\n",
       "      <td>2.679154</td>\n",
       "      <td>2.648348</td>\n",
       "      <td>2.539504</td>\n",
       "      <td>2.634708</td>\n",
       "    </tr>\n",
       "    <tr>\n",
       "      <th>4</th>\n",
       "      <td>ENSG00000000460</td>\n",
       "      <td>1.905655</td>\n",
       "      <td>1.892335</td>\n",
       "      <td>1.957807</td>\n",
       "      <td>1.944157</td>\n",
       "      <td>2.021323</td>\n",
       "      <td>1.936682</td>\n",
       "      <td>1.602395</td>\n",
       "      <td>1.960482</td>\n",
       "      <td>2.087508</td>\n",
       "      <td>...</td>\n",
       "      <td>1.701300</td>\n",
       "      <td>1.867803</td>\n",
       "      <td>1.954910</td>\n",
       "      <td>1.899056</td>\n",
       "      <td>1.906454</td>\n",
       "      <td>1.766193</td>\n",
       "      <td>2.056871</td>\n",
       "      <td>2.008651</td>\n",
       "      <td>2.034759</td>\n",
       "      <td>1.844021</td>\n",
       "    </tr>\n",
       "  </tbody>\n",
       "</table>\n",
       "<p>5 rows × 89 columns</p>\n",
       "</div>"
      ],
      "text/plain": [
       "              Gene  SRR1785238  SRR1785239  SRR1785240  SRR1785241  \\\n",
       "0  ENSG00000000003    6.328873    6.213042    6.566083    7.431347   \n",
       "1  ENSG00000000005   13.173146   12.876556   10.828189   12.335142   \n",
       "2  ENSG00000000419    3.370290    3.527564    3.562937    3.661824   \n",
       "3  ENSG00000000457    2.688080    2.836431    2.768769    2.896969   \n",
       "4  ENSG00000000460    1.905655    1.892335    1.957807    1.944157   \n",
       "\n",
       "   SRR1785242  SRR1785243  SRR1785244  SRR1785245  SRR1785246  ...  \\\n",
       "0    6.577885    6.622472    6.061065    6.185052    7.083283  ...   \n",
       "1   22.767086   21.927400    3.438301    3.365119   17.128099  ...   \n",
       "2    3.778322    3.697747    3.223593    3.277145    3.827415  ...   \n",
       "3    3.017560    2.767193    2.720313    2.659437    2.979878  ...   \n",
       "4    2.021323    1.936682    1.602395    1.960482    2.087508  ...   \n",
       "\n",
       "   SRR1785316  SRR1785317  SRR1785318  SRR1785319  SRR1785320  SRR1785321  \\\n",
       "0    8.095718    6.850729    6.190149    6.075060    7.108820    7.030187   \n",
       "1    5.218452    5.011540    6.540894    6.347032   10.704100   10.328805   \n",
       "2    3.806907    3.529330    3.979054    3.727725    3.708256    3.773404   \n",
       "3    3.012767    2.948514    2.715955    2.786659    2.895226    2.940234   \n",
       "4    1.701300    1.867803    1.954910    1.899056    1.906454    1.766193   \n",
       "\n",
       "   SRR1785322  SRR1785323  SRR1785324  SRR1785325  \n",
       "0    6.749068    6.897820    5.484898    6.410261  \n",
       "1    8.199832    8.299783    6.647849    7.419524  \n",
       "2    3.664229    3.690338    3.119168    3.709236  \n",
       "3    2.679154    2.648348    2.539504    2.634708  \n",
       "4    2.056871    2.008651    2.034759    1.844021  \n",
       "\n",
       "[5 rows x 89 columns]"
      ]
     },
     "execution_count": 16,
     "metadata": {},
     "output_type": "execute_result"
    }
   ],
   "source": [
    "df = pd.read_csv('../data/processed/SRP053101/SRP053101.tsv', sep='\\t')\n",
    "df.head()"
   ]
  },
  {
   "cell_type": "code",
   "execution_count": 17,
   "id": "806387e9",
   "metadata": {},
   "outputs": [
    {
     "data": {
      "text/plain": [
       "(43355, 89)"
      ]
     },
     "execution_count": 17,
     "metadata": {},
     "output_type": "execute_result"
    }
   ],
   "source": [
    "df.shape"
   ]
  },
  {
   "cell_type": "code",
   "execution_count": 18,
   "id": "4cd53151",
   "metadata": {},
   "outputs": [
    {
     "name": "stderr",
     "output_type": "stream",
     "text": [
      "Input sequence provided is already in string format. No operation performed\n",
      "Input sequence provided is already in string format. No operation performed\n",
      "Input sequence provided is already in string format. No operation performed\n",
      "26 input query terms found dup hits:\t[('ENSG00000175711', 2), ('ENSG00000188660', 2), ('ENSG00000226506', 2), ('ENSG00000226519', 2), ('E\n",
      "1370 input query terms found no hit:\t['ENSG00000112096', 'ENSG00000116883', 'ENSG00000130489', 'ENSG00000130723', 'ENSG00000131484', 'ENS\n",
      "26 input query terms found dup hits:\t[('ENSG00000175711', 2), ('ENSG00000188660', 2), ('ENSG00000226506', 2), ('ENSG00000226519', 2), ('E\n",
      "1370 input query terms found no hit:\t['ENSG00000112096', 'ENSG00000116883', 'ENSG00000130489', 'ENSG00000130723', 'ENSG00000131484', 'ENS\n"
     ]
    }
   ],
   "source": [
    "#convert ensembl IDS to gene names\n",
    "\n",
    "mg = mygene.MyGeneInfo()\n",
    "\n",
    "results = mg.querymany(df['Gene'].tolist(), \n",
    "                      scopes='ensembl.gene', \n",
    "                      fields='symbol', \n",
    "                      species='human')\n",
    "\n",
    "id_to_symbol = {}\n",
    "for item in results:\n",
    "    ensembl_id = item['query']\n",
    "    symbol = item.get('symbol', ensembl_id)  # Use original ID if no symbol found\n",
    "    id_to_symbol[ensembl_id] = symbol"
   ]
  },
  {
   "cell_type": "code",
   "execution_count": null,
   "id": "1b613562",
   "metadata": {},
   "outputs": [
    {
     "name": "stdout",
     "output_type": "stream",
     "text": [
      "Successfully converted: 33343 genes\n"
     ]
    },
    {
     "data": {
      "text/html": [
       "<div>\n",
       "<style scoped>\n",
       "    .dataframe tbody tr th:only-of-type {\n",
       "        vertical-align: middle;\n",
       "    }\n",
       "\n",
       "    .dataframe tbody tr th {\n",
       "        vertical-align: top;\n",
       "    }\n",
       "\n",
       "    .dataframe thead th {\n",
       "        text-align: right;\n",
       "    }\n",
       "</style>\n",
       "<table border=\"1\" class=\"dataframe\">\n",
       "  <thead>\n",
       "    <tr style=\"text-align: right;\">\n",
       "      <th></th>\n",
       "      <th>Gene</th>\n",
       "      <th>Gene_Symbol</th>\n",
       "    </tr>\n",
       "  </thead>\n",
       "  <tbody>\n",
       "    <tr>\n",
       "      <th>0</th>\n",
       "      <td>ENSG00000000003</td>\n",
       "      <td>TSPAN6</td>\n",
       "    </tr>\n",
       "    <tr>\n",
       "      <th>1</th>\n",
       "      <td>ENSG00000000005</td>\n",
       "      <td>TNMD</td>\n",
       "    </tr>\n",
       "    <tr>\n",
       "      <th>2</th>\n",
       "      <td>ENSG00000000419</td>\n",
       "      <td>DPM1</td>\n",
       "    </tr>\n",
       "    <tr>\n",
       "      <th>3</th>\n",
       "      <td>ENSG00000000457</td>\n",
       "      <td>SCYL3</td>\n",
       "    </tr>\n",
       "    <tr>\n",
       "      <th>4</th>\n",
       "      <td>ENSG00000000460</td>\n",
       "      <td>FIRRM</td>\n",
       "    </tr>\n",
       "    <tr>\n",
       "      <th>5</th>\n",
       "      <td>ENSG00000000938</td>\n",
       "      <td>FGR</td>\n",
       "    </tr>\n",
       "    <tr>\n",
       "      <th>6</th>\n",
       "      <td>ENSG00000000971</td>\n",
       "      <td>CFH</td>\n",
       "    </tr>\n",
       "    <tr>\n",
       "      <th>7</th>\n",
       "      <td>ENSG00000001036</td>\n",
       "      <td>FUCA2</td>\n",
       "    </tr>\n",
       "    <tr>\n",
       "      <th>8</th>\n",
       "      <td>ENSG00000001084</td>\n",
       "      <td>GCLC</td>\n",
       "    </tr>\n",
       "    <tr>\n",
       "      <th>9</th>\n",
       "      <td>ENSG00000001167</td>\n",
       "      <td>NFYA</td>\n",
       "    </tr>\n",
       "  </tbody>\n",
       "</table>\n",
       "</div>"
      ],
      "text/plain": [
       "              Gene Gene_Symbol\n",
       "0  ENSG00000000003      TSPAN6\n",
       "1  ENSG00000000005        TNMD\n",
       "2  ENSG00000000419        DPM1\n",
       "3  ENSG00000000457       SCYL3\n",
       "4  ENSG00000000460       FIRRM\n",
       "5  ENSG00000000938         FGR\n",
       "6  ENSG00000000971         CFH\n",
       "7  ENSG00000001036       FUCA2\n",
       "8  ENSG00000001084        GCLC\n",
       "9  ENSG00000001167        NFYA"
      ]
     },
     "execution_count": 19,
     "metadata": {},
     "output_type": "execute_result"
    }
   ],
   "source": [
    "\n",
    "\n",
    "df.insert(0, 'Gene_Symbol', df['Gene'].map(id_to_symbol))\n",
    "print(f\"Successfully converted: {(df['Gene_Symbol'] != df['Gene']).sum()} genes\")\n",
    "df[['Gene', 'Gene_Symbol']].head(10)\n"
   ]
  },
  {
   "cell_type": "code",
   "execution_count": 20,
   "id": "d5c6de4d",
   "metadata": {},
   "outputs": [
    {
     "data": {
      "text/plain": [
       "<bound method NDFrame.head of            Gene_Symbol             Gene  SRR1785238  SRR1785239  SRR1785240  \\\n",
       "0               TSPAN6  ENSG00000000003    6.328873    6.213042    6.566083   \n",
       "1                 TNMD  ENSG00000000005   13.173146   12.876556   10.828189   \n",
       "2                 DPM1  ENSG00000000419    3.370290    3.527564    3.562937   \n",
       "3                SCYL3  ENSG00000000457    2.688080    2.836431    2.768769   \n",
       "4                FIRRM  ENSG00000000460    1.905655    1.892335    1.957807   \n",
       "...                ...              ...         ...         ...         ...   \n",
       "43350  ENSG00000285498  ENSG00000285498    0.060086    0.058939    0.062073   \n",
       "43351  ENSG00000285505  ENSG00000285505    0.060086    0.704677    0.431207   \n",
       "43352     LOC128706666  ENSG00000285508    1.886209    1.693996    2.032619   \n",
       "43353      TBCEL-TECTA  ENSG00000285509    0.696041    1.053210    0.764423   \n",
       "43354  ENSG00000285513  ENSG00000285513    0.060086    0.058939    0.062073   \n",
       "\n",
       "       SRR1785241  SRR1785242  SRR1785243  SRR1785244  SRR1785245  ...  \\\n",
       "0        7.431347    6.577885    6.622472    6.061065    6.185052  ...   \n",
       "1       12.335142   22.767086   21.927400    3.438301    3.365119  ...   \n",
       "2        3.661824    3.778322    3.697747    3.223593    3.277145  ...   \n",
       "3        2.896969    3.017560    2.767193    2.720313    2.659437  ...   \n",
       "4        1.944157    2.021323    1.936682    1.602395    1.960482  ...   \n",
       "...           ...         ...         ...         ...         ...  ...   \n",
       "43350    0.061188    0.080567    0.077953    0.067714    0.069319  ...   \n",
       "43351    0.061188    0.080567    0.077953    0.067714    0.069319  ...   \n",
       "43352    1.856565    1.929317    1.953901    1.182835    1.654135  ...   \n",
       "43353    0.859939    1.118878    1.031304    0.813314    0.863346  ...   \n",
       "43354    0.061188    0.080567    0.077953    0.067714    0.069319  ...   \n",
       "\n",
       "       SRR1785316  SRR1785317  SRR1785318  SRR1785319  SRR1785320  SRR1785321  \\\n",
       "0        8.095718    6.850729    6.190149    6.075060    7.108820    7.030187   \n",
       "1        5.218452    5.011540    6.540894    6.347032   10.704100   10.328805   \n",
       "2        3.806907    3.529330    3.979054    3.727725    3.708256    3.773404   \n",
       "3        3.012767    2.948514    2.715955    2.786659    2.895226    2.940234   \n",
       "4        1.701300    1.867803    1.954910    1.899056    1.906454    1.766193   \n",
       "...           ...         ...         ...         ...         ...         ...   \n",
       "43350    0.075927    0.075259    0.056006    0.057689    0.069432    0.071066   \n",
       "43351    0.949740    0.629843    0.536759    0.501214    0.811385    0.438305   \n",
       "43352    1.452756    1.667390    1.558944    1.958426    1.507718    1.869392   \n",
       "43353    0.075927    0.739472    0.935978    1.069337    0.887446    0.874194   \n",
       "43354    0.075927    0.075259    0.056006    0.057689    0.069432    0.071066   \n",
       "\n",
       "       SRR1785322  SRR1785323  SRR1785324  SRR1785325  \n",
       "0        6.749068    6.897820    5.484898    6.410261  \n",
       "1        8.199832    8.299783    6.647849    7.419524  \n",
       "2        3.664229    3.690338    3.119168    3.709236  \n",
       "3        2.679154    2.648348    2.539504    2.634708  \n",
       "4        2.056871    2.008651    2.034759    1.844021  \n",
       "...           ...         ...         ...         ...  \n",
       "43350    0.049770    0.051382    0.066600    0.068504  \n",
       "43351    0.592563    0.384319    0.066600    0.779190  \n",
       "43352    2.153428    1.991410    1.740054    1.779722  \n",
       "43353    0.939781    1.067443    0.661831    0.541719  \n",
       "43354    0.049770    0.051382    0.066600    0.068504  \n",
       "\n",
       "[43355 rows x 90 columns]>"
      ]
     },
     "execution_count": 20,
     "metadata": {},
     "output_type": "execute_result"
    }
   ],
   "source": [
    "df.head"
   ]
  },
  {
   "cell_type": "code",
   "execution_count": 21,
   "id": "298a99b7",
   "metadata": {},
   "outputs": [],
   "source": [
    "# Log-scale the data and calculate per-gene median expression ranges\n",
    "\n",
    "\n",
    "# Get expression data (all columns except Gene and Gene_Symbol)\n",
    "\n",
    "expression_data = df.iloc[:, 2:]\n",
    "log_expression = np.log2(expression_data + 1)\n",
    "\n",
    "median_expression = log_expression.median(axis=1)"
   ]
  },
  {
   "cell_type": "code",
   "execution_count": 25,
   "id": "c6a0c7e5",
   "metadata": {},
   "outputs": [
    {
     "data": {
      "text/plain": [
       "0    2.971477\n",
       "1    3.534770\n",
       "2    2.217926\n",
       "3    1.928977\n",
       "4    1.556601\n",
       "dtype: float64"
      ]
     },
     "execution_count": 25,
     "metadata": {},
     "output_type": "execute_result"
    }
   ],
   "source": [
    "median_expression.describe()\n",
    "median_expression.head()"
   ]
  },
  {
   "cell_type": "code",
   "execution_count": 27,
   "id": "55e10af7",
   "metadata": {},
   "outputs": [
    {
     "data": {
      "image/png": "[encoded data removed]",
      "text/plain": [
       "<Figure size 640x480 with 1 Axes>"
      ]
     },
     "metadata": {},
     "output_type": "display_data"
    }
   ],
   "source": [
    "# 1. Density plot of log-scaled median expression\n",
    "sns.kdeplot(median_expression, label='Median Gene Expression Density')\n",
    "plt.title('Median Gene Expression Density', fontweight='bold', fontsize=15)\n",
    "plt.xlabel('Log-scaled Median Expression')\n",
    "plt.ylabel('Density')\n",
    "plt.grid(True)\n",
    "plt.tight_layout()\n",
    "plt.savefig('../results/figures/median_expression_density.png')\n",
    "plt.show()"
   ]
  },
  {
   "cell_type": "markdown",
   "id": "6a1f9115",
   "metadata": {},
   "source": [
    "## 2. Principal Component Analysis"
   ]
  },
  {
   "cell_type": "code",
   "execution_count": 29,
   "id": "8e2292d3",
   "metadata": {},
   "outputs": [
    {
     "data": {
      "text/html": [
       "<div>\n",
       "<style scoped>\n",
       "    .dataframe tbody tr th:only-of-type {\n",
       "        vertical-align: middle;\n",
       "    }\n",
       "\n",
       "    .dataframe tbody tr th {\n",
       "        vertical-align: top;\n",
       "    }\n",
       "\n",
       "    .dataframe thead th {\n",
       "        text-align: right;\n",
       "    }\n",
       "</style>\n",
       "<table border=\"1\" class=\"dataframe\">\n",
       "  <thead>\n",
       "    <tr style=\"text-align: right;\">\n",
       "      <th></th>\n",
       "      <th>time_group</th>\n",
       "      <th>refinebio_title</th>\n",
       "    </tr>\n",
       "    <tr>\n",
       "      <th>refinebio_accession_code</th>\n",
       "      <th></th>\n",
       "      <th></th>\n",
       "    </tr>\n",
       "  </thead>\n",
       "  <tbody>\n",
       "    <tr>\n",
       "      <th>SRR1785238</th>\n",
       "      <td>0.0</td>\n",
       "      <td>SAT01_T0</td>\n",
       "    </tr>\n",
       "    <tr>\n",
       "      <th>SRR1785239</th>\n",
       "      <td>0.0</td>\n",
       "      <td>SAT01_T0</td>\n",
       "    </tr>\n",
       "    <tr>\n",
       "      <th>SRR1785240</th>\n",
       "      <td>0.0</td>\n",
       "      <td>SAT02_T0</td>\n",
       "    </tr>\n",
       "    <tr>\n",
       "      <th>SRR1785241</th>\n",
       "      <td>0.0</td>\n",
       "      <td>SAT02_T0</td>\n",
       "    </tr>\n",
       "    <tr>\n",
       "      <th>SRR1785242</th>\n",
       "      <td>0.0</td>\n",
       "      <td>SAT03_T0</td>\n",
       "    </tr>\n",
       "    <tr>\n",
       "      <th>...</th>\n",
       "      <td>...</td>\n",
       "      <td>...</td>\n",
       "    </tr>\n",
       "    <tr>\n",
       "      <th>SRR1785321</th>\n",
       "      <td>3.0</td>\n",
       "      <td>SAT20_T3</td>\n",
       "    </tr>\n",
       "    <tr>\n",
       "      <th>SRR1785322</th>\n",
       "      <td>3.0</td>\n",
       "      <td>SAT21_T3</td>\n",
       "    </tr>\n",
       "    <tr>\n",
       "      <th>SRR1785323</th>\n",
       "      <td>3.0</td>\n",
       "      <td>SAT21_T3</td>\n",
       "    </tr>\n",
       "    <tr>\n",
       "      <th>SRR1785324</th>\n",
       "      <td>3.0</td>\n",
       "      <td>SAT22_T3</td>\n",
       "    </tr>\n",
       "    <tr>\n",
       "      <th>SRR1785325</th>\n",
       "      <td>3.0</td>\n",
       "      <td>SAT22_T3</td>\n",
       "    </tr>\n",
       "  </tbody>\n",
       "</table>\n",
       "<p>88 rows × 2 columns</p>\n",
       "</div>"
      ],
      "text/plain": [
       "                          time_group refinebio_title\n",
       "refinebio_accession_code                            \n",
       "SRR1785238                       0.0        SAT01_T0\n",
       "SRR1785239                       0.0        SAT01_T0\n",
       "SRR1785240                       0.0        SAT02_T0\n",
       "SRR1785241                       0.0        SAT02_T0\n",
       "SRR1785242                       0.0        SAT03_T0\n",
       "...                              ...             ...\n",
       "SRR1785321                       3.0        SAT20_T3\n",
       "SRR1785322                       3.0        SAT21_T3\n",
       "SRR1785323                       3.0        SAT21_T3\n",
       "SRR1785324                       3.0        SAT22_T3\n",
       "SRR1785325                       3.0        SAT22_T3\n",
       "\n",
       "[88 rows x 2 columns]"
      ]
     },
     "execution_count": 29,
     "metadata": {},
     "output_type": "execute_result"
    }
   ],
   "source": [
    "# Group samples using metadata \n",
    "metadata = pd.read_csv('../data/processed/SRP053101/metadata_SRP053101.tsv', sep='\\t')\n",
    "metadata.head()\n",
    "metadata.set_index('refinebio_accession_code', inplace=True)\n",
    "df = df[metadata.index]\n",
    "\n",
    "#Group 0 is before treatment and Group 3 is after treatment\n",
    "\n",
    "metadata['time_group'] = np.where(metadata['refinebio_title'].str.endswith('T0'), 0,\n",
    "                                  np.where(metadata['refinebio_title'].str.endswith('T3'), \n",
    "                                           3, np.nan))\n",
    "metadata[['time_group', 'refinebio_title']]"
   ]
  },
  {
   "cell_type": "code",
   "execution_count": 34,
   "id": "17afbd33",
   "metadata": {},
   "outputs": [
    {
     "data": {
      "image/png": "[encoded data removed]",
      "text/plain": [
       "<Figure size 640x480 with 1 Axes>"
      ]
     },
     "metadata": {},
     "output_type": "display_data"
    }
   ],
   "source": [
    "# run PCA on log-expression data\n",
    "pca = PCA(n_components=2)\n",
    "pc = pca.fit_transform(log_expression.T)\n",
    "\n",
    "pc_df = pd.DataFrame(data=pc, columns=['PC1', 'PC2'], index=metadata.index)\n",
    "pc_df = pc_df.join(metadata[['time_group']])\n",
    "pc_df.head\n",
    "\n",
    "sns.scatterplot(data=pc_df, x='PC1', y='PC2', hue='time_group')\n",
    "plt.title('PCA Grouped by Surgery Time Points (T0 vs T3)', fontweight='bold', fontsize=15)\n",
    "plt.legend(title='Time Group')\n",
    "plt.tight_layout()\n",
    "plt.savefig('../results/figures/pca.png')\n",
    "plt.show()"
   ]
  },
  {
   "cell_type": "code",
   "execution_count": 29,
   "id": "e9a28711",
   "metadata": {},
   "outputs": [
    {
     "data": {
      "text/plain": [
       "(88, 3)"
      ]
     },
     "execution_count": 29,
     "metadata": {},
     "output_type": "execute_result"
    }
   ],
   "source": [
    "pc_df.shape"
   ]
  },
  {
   "cell_type": "markdown",
   "id": "0da433a7",
   "metadata": {},
   "source": [
    "## 3. Differential Expression Analysis"
   ]
  },
  {
   "cell_type": "markdown",
   "id": "a045ec84",
   "metadata": {},
   "source": []
  },
  {
   "cell_type": "markdown",
   "id": "3991853d",
   "metadata": {},
   "source": [
    "## 4. Gene Set Enrichment Analysis"
   ]
  },
  {
   "cell_type": "code",
   "execution_count": 4,
   "id": "fee74448",
   "metadata": {},
   "outputs": [
    {
     "data": {
      "text/plain": [
       "<bound method NDFrame.head of                 gene gene_symbol   baseMean  log2FoldChange     lfcSE  \\\n",
       "0    ENSG00000164128       NPY1R  22.387592       -0.524289  0.080306   \n",
       "1    ENSG00000145423       SFRP2   9.954843       -1.091122  0.170615   \n",
       "2    ENSG00000116133      DHCR24  14.864567       -0.609263  0.099876   \n",
       "3    ENSG00000113083         LOX  11.262108       -0.599049  0.097483   \n",
       "4    ENSG00000174697         LEP  91.846900       -0.310507  0.052519   \n",
       "..               ...         ...        ...             ...       ...   \n",
       "220  ENSG00000008988       RPS20  69.505135        0.078402  0.040548   \n",
       "221  ENSG00000079337     RAPGEF3  26.023732        0.139759  0.090755   \n",
       "222  ENSG00000110700       RPS13  29.502307        0.108734  0.063978   \n",
       "223  ENSG00000124225      PMEPA1  30.410728       -0.129074  0.083128   \n",
       "224  ENSG00000151414        NEK7  17.546422       -0.134044  0.088084   \n",
       "\n",
       "         stat        pvalue          padj  significant  \n",
       "0   -6.909569  4.861287e-12  1.053927e-08         True  \n",
       "1   -6.786307  1.150406e-11  1.247040e-08         True  \n",
       "2   -6.507919  7.619877e-11  4.129973e-08         True  \n",
       "3   -6.547161  5.864131e-11  4.129973e-08         True  \n",
       "4   -6.323010  2.565173e-10  1.112259e-07         True  \n",
       "..        ...           ...           ...          ...  \n",
       "220  2.807430  4.993861e-03  4.898955e-02         True  \n",
       "221  2.804972  5.032090e-03  4.914221e-02         True  \n",
       "222  2.803357  5.057366e-03  4.916758e-02         True  \n",
       "223 -2.799353  5.120520e-03  4.946653e-02         True  \n",
       "224 -2.798519  5.133750e-03  4.946653e-02         True  \n",
       "\n",
       "[225 rows x 9 columns]>"
      ]
     },
     "execution_count": 4,
     "metadata": {},
     "output_type": "execute_result"
    }
   ],
   "source": [
    "significant_genes = pd.read_csv('../results/significant_genes_T3_vs_T0.csv')\n",
    "significant_genes.head"
   ]
  },
  {
   "cell_type": "code",
   "execution_count": 35,
   "id": "8937d607",
   "metadata": {},
   "outputs": [
    {
     "name": "stdout",
     "output_type": "stream",
     "text": [
      "(225,)\n"
     ]
    }
   ],
   "source": [
    "significant_gene_symbols = significant_genes['gene_symbol'].dropna()\n",
    "print(significant_gene_symbols.shape)\n",
    "enrichment = gp.enrichr(gene_list=significant_gene_symbols.tolist(),\n",
    "                        gene_sets='GO_Biological_Process_2023',\n",
    "                        organism='Human',\n",
    "                        )\n",
    "\n",
    "sorted_res = enrichment.res2d.sort_values(by='Adjusted P-value', ascending=True)\n",
    "sorted_res.to_csv('../results/enrichment_gseapy_gene_ontology.csv')\n"
   ]
  },
  {
   "cell_type": "markdown",
   "id": "8edbc997",
   "metadata": {},
   "source": []
  }
 ],
 "metadata": {
  "kernelspec": {
   "display_name": "cgs",
   "language": "python",
   "name": "python3"
  },
  "language_info": {
   "codemirror_mode": {
    "name": "ipython",
    "version": 3
   },
   "file_extension": ".py",
   "mimetype": "text/x-python",
   "name": "python",
   "nbconvert_exporter": "python",
   "pygments_lexer": "ipython3",
   "version": "3.12.11"
  }
 },
 "nbformat": 4,
 "nbformat_minor": 5
}
