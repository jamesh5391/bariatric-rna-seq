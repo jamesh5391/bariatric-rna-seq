{
 "cells": [
  {
   "cell_type": "markdown",
   "id": "6343a4da",
   "metadata": {},
   "source": [
    "# Differential Expression Analysis "
   ]
  },
  {
   "cell_type": "code",
   "execution_count": 1,
   "id": "7f6386e6",
   "metadata": {},
   "outputs": [],
   "source": [
    "import pandas as pd\n",
    "import numpy as np\n",
    "from pydeseq2.dds import DeseqDataSet\n",
    "from pydeseq2.ds import DeseqStats\n",
    "from bioinfokit.visuz import GeneExpression"
   ]
  },
  {
   "cell_type": "code",
   "execution_count": null,
   "id": "30ae8e97",
   "metadata": {},
   "outputs": [
    {
     "name": "stdout",
     "output_type": "stream",
     "text": [
      "Dataset loaded: 43,355 genes, 88 samples\n"
     ]
    }
   ],
   "source": [
    "# Load RNA-seq dataset and metadata\n",
    "print(\"Loading RNA-seq dataset and metadata...\")\n",
    "data = pd.read_csv('../data/processed/SRP053101/SRP053101.tsv', sep='\\t')\n",
    "metadata = pd.read_csv('../data/processed/SRP053101/metadata_SRP053101.tsv', sep='\\t')\n",
    "\n",
    "expression_df = data.set_index(data.columns[0])\n",
    "\n",
    "metadata['timepoint'] = metadata['refinebio_title'].apply(\n",
    "    lambda x: 'T0' if x.endswith('_T0') else 'T3'\n",
    ")\n",
    "\n",
    "expression_samples = expression_df.columns.tolist()\n",
    "metadata_filtered = metadata[metadata['refinebio_accession_code'].isin(expression_samples)].copy()\n",
    "metadata_filtered = metadata_filtered.set_index('refinebio_accession_code').loc[expression_samples].reset_index()\n",
    "expression_df = expression_df[metadata_filtered['refinebio_accession_code']]\n",
    "\n",
    "print(f\"Dataset loaded: {expression_df.shape[0]:,} genes, {expression_df.shape[1]} samples\")"
   ]
  },
  {
   "cell_type": "code",
   "execution_count": 21,
   "id": "a8f8543d",
   "metadata": {},
   "outputs": [
    {
     "name": "stdout",
     "output_type": "stream",
     "text": [
      "Data prepared for PyDESeq2\n"
     ]
    }
   ],
   "source": [
    "# Prepare count matrix and metadata for PyDESeq2\n",
    "counts_df = expression_df.round().astype(int)\n",
    "metadata_pydeseq = metadata_filtered.set_index('refinebio_accession_code')\n",
    "metadata_pydeseq['timepoint'] = pd.Categorical(\n",
    "    metadata_pydeseq['timepoint'], \n",
    "    categories=['T0', 'T3'], \n",
    "    ordered=True\n",
    ")\n",
    "\n",
    "print(\"Data prepared for PyDESeq2\")"
   ]
  },
  {
   "cell_type": "code",
   "execution_count": 22,
   "id": "2e89624d",
   "metadata": {},
   "outputs": [
    {
     "name": "stdout",
     "output_type": "stream",
     "text": [
      "Running DESeq2 analysis...\n",
      "Using None as control genes, passed at DeseqDataSet initialization\n"
     ]
    },
    {
     "name": "stderr",
     "output_type": "stream",
     "text": [
      "/var/folders/_v/n41tz8z95n74x67p4npp6ndc0000gn/T/ipykernel_84018/1389261094.py:4: DeprecationWarning: design_factors is deprecated and will soon be removed.Please consider providing a formulaic formula using the design argumentinstead.\n",
      "  dds = DeseqDataSet(\n",
      "Fitting size factors...\n",
      "... done in 0.06 seconds.\n",
      "\n",
      "Fitting dispersions...\n",
      "... done in 1.27 seconds.\n",
      "\n",
      "Fitting dispersion trend curve...\n",
      "... done in 0.30 seconds.\n",
      "\n",
      "Fitting MAP dispersions...\n",
      "... done in 2.81 seconds.\n",
      "\n",
      "Fitting LFCs...\n",
      "... done in 1.39 seconds.\n",
      "\n",
      "Calculating cook's distance...\n",
      "... done in 0.12 seconds.\n",
      "\n",
      "Replacing 1 outlier genes.\n",
      "\n",
      "Fitting dispersions...\n",
      "... done in 0.01 seconds.\n",
      "\n",
      "Fitting MAP dispersions...\n",
      "... done in 0.01 seconds.\n",
      "\n",
      "Fitting LFCs...\n",
      "... done in 0.01 seconds.\n",
      "\n"
     ]
    },
    {
     "name": "stdout",
     "output_type": "stream",
     "text": [
      "DESeq2 analysis completed\n"
     ]
    }
   ],
   "source": [
    "# Create PyDESeq2 DataSet and run analysis\n",
    "counts_transposed = counts_df.T\n",
    "\n",
    "dds = DeseqDataSet(\n",
    "    counts=counts_transposed,\n",
    "    metadata=metadata_pydeseq,\n",
    "    design_factors=\"timepoint\"\n",
    ")\n",
    "\n",
    "print(\"Running DESeq2 analysis...\")\n",
    "dds.deseq2()\n",
    "print(\"DESeq2 analysis completed\")"
   ]
  },
  {
   "cell_type": "code",
   "execution_count": null,
   "id": "25c57683",
   "metadata": {},
   "outputs": [
    {
     "name": "stderr",
     "output_type": "stream",
     "text": [
      "Running Wald tests...\n",
      "... done in 0.91 seconds.\n",
      "\n",
      "Fitting MAP LFCs...\n",
      "... done in 0.91 seconds.\n",
      "\n",
      "Fitting MAP LFCs...\n"
     ]
    },
    {
     "name": "stdout",
     "output_type": "stream",
     "text": [
      "Log2 fold change & Wald test p-value: timepoint T3 vs T0\n",
      "                  baseMean  log2FoldChange     lfcSE      stat    pvalue  \\\n",
      "Gene                                                                       \n",
      "ENSG00000000003   6.932265        0.066447  0.118496  0.560752  0.574967   \n",
      "ENSG00000000005  10.920938       -0.456968  0.116219 -3.931948  0.000084   \n",
      "ENSG00000000419   3.670752       -0.026585  0.162501 -0.163602  0.870045   \n",
      "ENSG00000000457   2.988860        0.011185  0.179946  0.062159  0.950437   \n",
      "ENSG00000000460   2.000149        0.000214  0.219849  0.000974  0.999223   \n",
      "...                    ...             ...       ...       ...       ...   \n",
      "ENSG00000285498   0.000000             NaN       NaN       NaN       NaN   \n",
      "ENSG00000285505   0.613711       -0.106651  0.486160 -0.219374  0.826359   \n",
      "ENSG00000285508   1.852422        0.017916  0.228557  0.078389  0.937518   \n",
      "ENSG00000285509   0.954620        0.068927  0.318211  0.216607  0.828514   \n",
      "ENSG00000285513   0.000000             NaN       NaN       NaN       NaN   \n",
      "\n",
      "                     padj  \n",
      "Gene                       \n",
      "ENSG00000000003       NaN  \n",
      "ENSG00000000005  0.002573  \n",
      "ENSG00000000419       NaN  \n",
      "ENSG00000000457       NaN  \n",
      "ENSG00000000460       NaN  \n",
      "...                   ...  \n",
      "ENSG00000285498       NaN  \n",
      "ENSG00000285505       NaN  \n",
      "ENSG00000285508       NaN  \n",
      "ENSG00000285509       NaN  \n",
      "ENSG00000285513       NaN  \n",
      "\n",
      "[43355 rows x 6 columns]\n",
      "Shrunk log2 fold change & Wald test p-value: timepoint[T.T3]\n",
      "                  baseMean  log2FoldChange     lfcSE      stat    pvalue  \\\n",
      "Gene                                                                       \n",
      "ENSG00000000003   6.932265        0.003849  0.039525  0.560752  0.574967   \n",
      "ENSG00000000005  10.920938       -0.388226  0.121957 -3.931948  0.000084   \n",
      "ENSG00000000419   3.670752       -0.000810  0.040084 -0.163602  0.870045   \n",
      "ENSG00000000457   2.988860        0.000289  0.040304  0.062159  0.950437   \n",
      "ENSG00000000460   2.000149        0.000005  0.040636  0.000974  0.999223   \n",
      "...                    ...             ...       ...       ...       ...   \n",
      "ENSG00000285498   0.000000             NaN       NaN       NaN       NaN   \n",
      "ENSG00000285505   0.613711       -0.000387  0.040947 -0.219374  0.826359   \n",
      "ENSG00000285508   1.852422        0.000289  0.040696  0.078389  0.937518   \n",
      "ENSG00000285509   0.954620        0.000588  0.041030  0.216607  0.828514   \n",
      "ENSG00000285513   0.000000             NaN       NaN       NaN       NaN   \n",
      "\n",
      "                     padj  \n",
      "Gene                       \n",
      "ENSG00000000003       NaN  \n",
      "ENSG00000000005  0.002573  \n",
      "ENSG00000000419       NaN  \n",
      "ENSG00000000457       NaN  \n",
      "ENSG00000000460       NaN  \n",
      "...                   ...  \n",
      "ENSG00000285498       NaN  \n",
      "ENSG00000285505       NaN  \n",
      "ENSG00000285508       NaN  \n",
      "ENSG00000285509       NaN  \n",
      "ENSG00000285513       NaN  \n",
      "\n",
      "[43355 rows x 6 columns]\n",
      "Results extracted with shrinkage applied: 43,355 genes\n",
      "Significant genes: 225\n",
      "Shrunk log2 fold change & Wald test p-value: timepoint[T.T3]\n",
      "                  baseMean  log2FoldChange     lfcSE      stat    pvalue  \\\n",
      "Gene                                                                       \n",
      "ENSG00000000003   6.932265        0.003849  0.039525  0.560752  0.574967   \n",
      "ENSG00000000005  10.920938       -0.388226  0.121957 -3.931948  0.000084   \n",
      "ENSG00000000419   3.670752       -0.000810  0.040084 -0.163602  0.870045   \n",
      "ENSG00000000457   2.988860        0.000289  0.040304  0.062159  0.950437   \n",
      "ENSG00000000460   2.000149        0.000005  0.040636  0.000974  0.999223   \n",
      "...                    ...             ...       ...       ...       ...   \n",
      "ENSG00000285498   0.000000             NaN       NaN       NaN       NaN   \n",
      "ENSG00000285505   0.613711       -0.000387  0.040947 -0.219374  0.826359   \n",
      "ENSG00000285508   1.852422        0.000289  0.040696  0.078389  0.937518   \n",
      "ENSG00000285509   0.954620        0.000588  0.041030  0.216607  0.828514   \n",
      "ENSG00000285513   0.000000             NaN       NaN       NaN       NaN   \n",
      "\n",
      "                     padj  \n",
      "Gene                       \n",
      "ENSG00000000003       NaN  \n",
      "ENSG00000000005  0.002573  \n",
      "ENSG00000000419       NaN  \n",
      "ENSG00000000457       NaN  \n",
      "ENSG00000000460       NaN  \n",
      "...                   ...  \n",
      "ENSG00000285498       NaN  \n",
      "ENSG00000285505       NaN  \n",
      "ENSG00000285508       NaN  \n",
      "ENSG00000285509       NaN  \n",
      "ENSG00000285513       NaN  \n",
      "\n",
      "[43355 rows x 6 columns]\n",
      "Results extracted with shrinkage applied: 43,355 genes\n",
      "Significant genes: 225\n"
     ]
    },
    {
     "name": "stderr",
     "output_type": "stream",
     "text": [
      "... done in 2.76 seconds.\n",
      "\n"
     ]
    }
   ],
   "source": [
    "# Extract differential expression results with shrinkage\n",
    "stat_res = DeseqStats(dds, contrast=('timepoint', 'T3', 'T0'))\n",
    "stat_res.summary()\n",
    "\n",
    "# Apply log fold change shrinkage\n",
    "stat_res.lfc_shrink(coeff=\"timepoint[T.T3]\")\n",
    "\n",
    "# Extract shrunken results and prepare final dataframe\n",
    "results_df = stat_res.results_df.copy()\n",
    "final_results = results_df.copy()\n",
    "final_results['gene'] = final_results.index\n",
    "final_results = final_results.reset_index(drop=True)\n",
    "final_results['significant'] = (final_results['padj'] < 0.05) & (~final_results['padj'].isna())\n",
    "final_results = final_results.sort_values('padj').reset_index(drop=True)\n",
    "\n",
    "print(f\"Results extracted with shrinkage applied: {len(results_df):,} genes\")\n",
    "print(f\"Significant genes: {final_results['significant'].sum():,}\")\n",
    "\n",
    "# Map ENSEMBL IDs to gene symbols\n",
    "print(\"Mapping ENSEMBL IDs to gene symbols...\")\n",
    "\n",
    "try:\n",
    "    import json\n",
    "    with open('../results/ensembl_to_symbol_mapping.json', 'r') as f:\n",
    "        gene_mapping_dict = json.load(f)\n",
    "    \n",
    "    print(f\"Gene mapping loaded: {len(gene_mapping_dict):,} mappings\")\n",
    "    \n",
    "    # Convert JSON dict to DataFrame for easier merging\n",
    "    gene_mapping = pd.DataFrame([\n",
    "        {'ensembl_id': ensembl_id, 'gene_symbol': symbol} \n",
    "        for ensembl_id, symbol in gene_mapping_dict.items()\n",
    "    ])\n",
    "    \n",
    "    print(f\"DataFrame created with columns: {list(gene_mapping.columns)}\")\n",
    "    print(f\"First few mappings: {gene_mapping.head()}\")\n",
    "    \n",
    "    # Create gene_symbol mapping directly from dictionary\n",
    "    final_results['gene_symbol'] = final_results['gene'].map(gene_mapping_dict)\n",
    "    \n",
    "    # Fill missing symbols with ENSEMBL ID\n",
    "    final_results['gene_symbol'] = final_results['gene_symbol'].fillna(final_results['gene'])\n",
    "    \n",
    "    # Reorder columns to put gene_symbol after gene\n",
    "    cols = ['gene', 'gene_symbol'] + [col for col in final_results.columns if col not in ['gene', 'gene_symbol']]\n",
    "    final_results = final_results[cols]\n",
    "    \n",
    "    print(f\"Mapped {(~final_results['gene_symbol'].eq(final_results['gene'])).sum():,} genes to symbols\")\n",
    "    \n",
    "except FileNotFoundError:\n",
    "    print(\"Gene mapping file not found. Using ENSEMBL IDs only.\")\n",
    "    final_results['gene_symbol'] = final_results['gene'] \n",
    "except Exception as e:\n",
    "    print(f\"Error loading gene mapping: {e}\")\n",
    "    final_results['gene_symbol'] = final_results['gene']"
   ]
  },
  {
   "cell_type": "code",
   "execution_count": null,
   "id": "c2bf8fa1",
   "metadata": {},
   "outputs": [],
   "source": [
    "print(\"Top 50 significant genes:\")\n",
    "print(final_results[final_results['significant']].head(50)[['gene', 'gene_symbol', 'log2FoldChange', 'padj']])  "
   ]
  },
  {
   "cell_type": "code",
   "execution_count": 28,
   "id": "6525cb87",
   "metadata": {},
   "outputs": [],
   "source": [
    "# Save results\n",
    "final_results.to_csv('../results/differential_expression_results_T3_vs_T0_complete.csv', index=False)\n",
    "\n",
    "significant_genes = final_results[final_results['significant']].copy()\n",
    "significant_genes.to_csv('../results/significant_genes_T3_vs_T0.csv', index=False)"
   ]
  },
  {
   "cell_type": "code",
   "execution_count": 27,
   "id": "93140572",
   "metadata": {},
   "outputs": [
    {
     "data": {
      "image/png": "[encoded data removed]",
      "text/plain": [
       "<Figure size 500x500 with 1 Axes>"
      ]
     },
     "metadata": {},
     "output_type": "display_data"
    }
   ],
   "source": [
    "# Create volcano plot using bioinfokit\n",
    "from bioinfokit import visuz\n",
    "\n",
    "# Prepare data for bioinfokit with proper cleaning\n",
    "volcano_data_biokit = final_results.copy()\n",
    "volcano_data_biokit = volcano_data_biokit.rename(columns={'gene': 'gene_id'})\n",
    "\n",
    "# Remove rows with NaN or infinite values\n",
    "volcano_data_biokit = volcano_data_biokit.dropna(subset=['log2FoldChange', 'padj'])\n",
    "volcano_data_biokit = volcano_data_biokit[\n",
    "    ~volcano_data_biokit['log2FoldChange'].isin([np.inf, -np.inf]) &\n",
    "    ~volcano_data_biokit['padj'].isin([np.inf, -np.inf])\n",
    "]\n",
    "\n",
    "visuz.GeneExpression.volcano(\n",
    "    df=volcano_data_biokit, \n",
    "    lfc='log2FoldChange',\n",
    "    pv='padj',\n",
    "    lfc_thr=(0.2, 0.2),   \n",
    "    pv_thr=(0.1, 0.1),   \n",
    "    geneid='gene_id',\n",
    "    genenames='gene_id',\n",
    "    plotlegend=True,\n",
    "    legendpos='upper right',\n",
    "    figname='volcano_plot_bariatric_rna_seq',\n",
    "    show=True\n",
    ")\n"
   ]
  }
 ],
 "metadata": {
  "kernelspec": {
   "display_name": "mmds",
   "language": "python",
   "name": "python3"
  },
  "language_info": {
   "codemirror_mode": {
    "name": "ipython",
    "version": 3
   },
   "file_extension": ".py",
   "mimetype": "text/x-python",
   "name": "python",
   "nbconvert_exporter": "python",
   "pygments_lexer": "ipython3",
   "version": "3.11.10"
  }
 },
 "nbformat": 4,
 "nbformat_minor": 5
}
